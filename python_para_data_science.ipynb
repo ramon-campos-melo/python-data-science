{
  "nbformat": 4,
  "nbformat_minor": 0,
  "metadata": {
    "colab": {
      "name": "python-para-data-science.ipynb",
      "provenance": [],
      "collapsed_sections": [],
      "authorship_tag": "ABX9TyP2zYRV2QmucwQOa9sl75OC",
      "include_colab_link": true
    },
    "kernelspec": {
      "name": "python3",
      "display_name": "Python 3"
    },
    "language_info": {
      "name": "python"
    }
  },
  "cells": [
    {
      "cell_type": "markdown",
      "metadata": {
        "id": "view-in-github",
        "colab_type": "text"
      },
      "source": [
        "<a href=\"https://colab.research.google.com/github/ramon-campos/python-para-data-science/blob/main/python_para_data_science.ipynb\" target=\"_parent\"><img src=\"https://colab.research.google.com/assets/colab-badge.svg\" alt=\"Open In Colab\"/></a>"
      ]
    },
    {
      "cell_type": "markdown",
      "source": [
        "# Python para Data Science"
      ],
      "metadata": {
        "id": "xqkUy5SLTqlk"
      }
    },
    {
      "cell_type": "markdown",
      "source": [
        "## Função e Linguagem de Alto Nível"
      ],
      "metadata": {
        "id": "1mxJgSgYdw8-"
      }
    },
    {
      "cell_type": "markdown",
      "source": [
        "### Variáveis"
      ],
      "metadata": {
        "id": "Z0d9yToAeE1h"
      }
    },
    {
      "cell_type": "code",
      "execution_count": 3,
      "metadata": {
        "id": "pPhJ9u-Edqev",
        "colab": {
          "base_uri": "https://localhost:8080/",
          "height": 35
        },
        "outputId": "bdb6ef8a-a687-464f-e214-a67f2d7c4419"
      },
      "outputs": [
        {
          "output_type": "execute_result",
          "data": {
            "text/plain": [
              "'Ramon'"
            ],
            "application/vnd.google.colaboratory.intrinsic+json": {
              "type": "string"
            }
          },
          "metadata": {},
          "execution_count": 3
        }
      ],
      "source": [
        "nome = 'Ramon'\n",
        "nome"
      ]
    },
    {
      "cell_type": "code",
      "source": [
        "idade = 27\n",
        "idade"
      ],
      "metadata": {
        "id": "77l5l8imeKqh",
        "colab": {
          "base_uri": "https://localhost:8080/"
        },
        "outputId": "452c35e2-6b53-4aa4-8d07-4c50d01dd001"
      },
      "execution_count": 4,
      "outputs": [
        {
          "output_type": "execute_result",
          "data": {
            "text/plain": [
              "27"
            ]
          },
          "metadata": {},
          "execution_count": 4
        }
      ]
    },
    {
      "cell_type": "markdown",
      "source": [
        "### Funções"
      ],
      "metadata": {
        "id": "b6h2097oe0kL"
      }
    },
    {
      "cell_type": "markdown",
      "source": [
        "#### Função `print`"
      ],
      "metadata": {
        "id": "bPcsMfWffOeO"
      }
    },
    {
      "cell_type": "code",
      "source": [
        "print(f'Meu nome é {nome} e tenho {idade} anos de idade.')"
      ],
      "metadata": {
        "id": "sxLfaCQAe-mk",
        "colab": {
          "base_uri": "https://localhost:8080/"
        },
        "outputId": "97488522-bbd4-4b81-d12c-1a338209e943"
      },
      "execution_count": 5,
      "outputs": [
        {
          "output_type": "stream",
          "name": "stdout",
          "text": [
            "Meu nome é Ramon e tenho 27 anos de idade.\n"
          ]
        }
      ]
    },
    {
      "cell_type": "code",
      "source": [
        "print('Meu nome é', nome, 'e tenho', idade, 'anos de idade.')"
      ],
      "metadata": {
        "colab": {
          "base_uri": "https://localhost:8080/"
        },
        "id": "qpROjmyHiClw",
        "outputId": "29aa62b2-1747-4d0c-a74c-863c92595215"
      },
      "execution_count": 6,
      "outputs": [
        {
          "output_type": "stream",
          "name": "stdout",
          "text": [
            "Meu nome é Ramon e tenho 27 anos de idade.\n"
          ]
        }
      ]
    },
    {
      "cell_type": "markdown",
      "source": [
        "#### Definindo Funções"
      ],
      "metadata": {
        "id": "V-1laAZ6fT6J"
      }
    },
    {
      "cell_type": "markdown",
      "source": [
        "##### Estrutura"
      ],
      "metadata": {
        "id": "EjzqR-jQjq4V"
      }
    },
    {
      "cell_type": "markdown",
      "source": [
        "``` \n",
        "def nome_da_função():\n",
        "  ...\n",
        "  ...\n",
        "  ...\n",
        "```"
      ],
      "metadata": {
        "id": "VbAyeeXdjUzr"
      }
    },
    {
      "cell_type": "markdown",
      "source": [
        "##### Exemplo"
      ],
      "metadata": {
        "id": "wO-H2T9ujsP3"
      }
    },
    {
      "cell_type": "code",
      "source": [
        "def saudacao():\n",
        "  nome = input('Digite o seu nome: ')\n",
        "  print(f'Olá, {nome}!')\n",
        "\n",
        "saudacao()"
      ],
      "metadata": {
        "colab": {
          "base_uri": "https://localhost:8080/"
        },
        "id": "Zg4FKDM7jxNm",
        "outputId": "a810a401-1c2c-4df7-a997-a78c053310ee"
      },
      "execution_count": 7,
      "outputs": [
        {
          "output_type": "stream",
          "name": "stdout",
          "text": [
            "Digite o seu nome: Ramon\n",
            "Olá, Ramon!\n"
          ]
        }
      ]
    },
    {
      "cell_type": "markdown",
      "source": [
        "## Parâmetros, Condicionais e Conversão de Tipos"
      ],
      "metadata": {
        "id": "m_fo7MM8nvZD"
      }
    },
    {
      "cell_type": "markdown",
      "source": [
        "### Parâmetros"
      ],
      "metadata": {
        "id": "IzYoIE2zn2E1"
      }
    },
    {
      "cell_type": "code",
      "source": [
        "def saudacao_com_parametro(nome):\n",
        "  print(f'Olá, {nome}')\n",
        "\n",
        "nome = 'João'\n",
        "saudacao_com_parametro(nome)"
      ],
      "metadata": {
        "colab": {
          "base_uri": "https://localhost:8080/"
        },
        "id": "u6Yd-r9llOac",
        "outputId": "59b422a2-ae00-45d1-80c5-b5d4b76d5424"
      },
      "execution_count": 8,
      "outputs": [
        {
          "output_type": "stream",
          "name": "stdout",
          "text": [
            "Olá, João\n"
          ]
        }
      ]
    },
    {
      "cell_type": "markdown",
      "source": [
        "### Condicionais (if-else)"
      ],
      "metadata": {
        "id": "OhfrB5p_oUbI"
      }
    },
    {
      "cell_type": "code",
      "source": [
        "def verifica_permissao(idade):\n",
        "  if idade >= 18:\n",
        "    print(f'Se você tem {idade} anos, então você tem permissão para dirigir.')\n",
        "  else:\n",
        "    print(f'Se você tem {idade} anos, então você não tem permissão para dirigir.')\n",
        "\n",
        "idade = 25\n",
        "verifica_permissao(idade)"
      ],
      "metadata": {
        "colab": {
          "base_uri": "https://localhost:8080/"
        },
        "id": "sJqvHJg0mDuW",
        "outputId": "c7400eea-7d54-4aa7-e9e7-b940116762eb"
      },
      "execution_count": 9,
      "outputs": [
        {
          "output_type": "stream",
          "name": "stdout",
          "text": [
            "Se você tem 25 anos, então você tem permissão para dirigir.\n"
          ]
        }
      ]
    },
    {
      "cell_type": "markdown",
      "source": [
        "### Conversão de Tipos"
      ],
      "metadata": {
        "id": "r8PBXc72pBZp"
      }
    },
    {
      "cell_type": "code",
      "source": [
        "def verifica_permissao_com_parametro(idade):\n",
        "  if idade >= 18:\n",
        "    print(f'Se você tem {idade} anos, então você tem permissão para dirigir.')\n",
        "  else:\n",
        "    print(f'Se você tem {idade} anos, então você não tem permissão para dirigir.')\n",
        "\n",
        "idade = input('Digite a sua idade: ') # O Python identifica como do tipo 'str'\n",
        "idade = int(idade) # Convertendo para o tipo 'int'\n",
        "verifica_permissao_com_parametro(idade)"
      ],
      "metadata": {
        "colab": {
          "base_uri": "https://localhost:8080/"
        },
        "outputId": "25e4ea18-49fa-4e0d-a5ce-76d8bb561e17",
        "id": "EAg9CSp8rV1D"
      },
      "execution_count": 10,
      "outputs": [
        {
          "output_type": "stream",
          "name": "stdout",
          "text": [
            "Digite a sua idade: 30\n",
            "Se você tem 30 anos, então você tem permissão para dirigir.\n"
          ]
        }
      ]
    },
    {
      "cell_type": "code",
      "source": [
        "def verifica_permissao_sem_parametro():\n",
        "  idade = input('Digite a sua idade: ') # O Python identifica como do tipo 'str'\n",
        "  idade = int(idade) # Convertendo para o tipo 'int'\n",
        "  if idade >= 18:\n",
        "    print(f'Se você tem {idade} anos, então você tem permissão para dirigir.')\n",
        "  else:\n",
        "    print(f'Se você tem {idade} anos, então você não tem permissão para dirigir.')\n",
        "\n",
        "verifica_permissao_sem_parametro()"
      ],
      "metadata": {
        "colab": {
          "base_uri": "https://localhost:8080/"
        },
        "id": "K1DBPFMWqU5t",
        "outputId": "22b5501b-7626-4810-ed3a-ef95cc380f58"
      },
      "execution_count": 11,
      "outputs": [
        {
          "output_type": "stream",
          "name": "stdout",
          "text": [
            "Digite a sua idade: 15\n",
            "Se você tem 15 anos, então você não tem permissão para dirigir.\n"
          ]
        }
      ]
    },
    {
      "cell_type": "markdown",
      "source": [
        "## Listas, Repetições e Tipo Booleano"
      ],
      "metadata": {
        "id": "uQYdnRNSVWNu"
      }
    },
    {
      "cell_type": "markdown",
      "metadata": {
        "id": "dsoF5WyLsohy"
      },
      "source": [
        "### Lista"
      ]
    },
    {
      "cell_type": "code",
      "metadata": {
        "id": "Qx5n3YADsgcT",
        "colab": {
          "base_uri": "https://localhost:8080/"
        },
        "outputId": "853da9df-6ef2-4337-dcc4-d65433279049"
      },
      "source": [
        "idade = 22\n",
        "type(idade)"
      ],
      "execution_count": 12,
      "outputs": [
        {
          "output_type": "execute_result",
          "data": {
            "text/plain": [
              "int"
            ]
          },
          "metadata": {},
          "execution_count": 12
        }
      ]
    },
    {
      "cell_type": "code",
      "metadata": {
        "id": "SjqnFUrosvhc",
        "colab": {
          "base_uri": "https://localhost:8080/"
        },
        "outputId": "7b2f5a9b-898a-4257-849f-98aa4d09e296"
      },
      "source": [
        "nome = 'Guilherme'\n",
        "type(nome)"
      ],
      "execution_count": 13,
      "outputs": [
        {
          "output_type": "execute_result",
          "data": {
            "text/plain": [
              "str"
            ]
          },
          "metadata": {},
          "execution_count": 13
        }
      ]
    },
    {
      "cell_type": "code",
      "metadata": {
        "id": "wl3ZUnJ0s0Rd",
        "colab": {
          "base_uri": "https://localhost:8080/"
        },
        "outputId": "96474257-029f-494b-e447-69d4229e9c5d"
      },
      "source": [
        "idades = [18, 22, 15, 50]\n",
        "type(idades)"
      ],
      "execution_count": 14,
      "outputs": [
        {
          "output_type": "execute_result",
          "data": {
            "text/plain": [
              "list"
            ]
          },
          "metadata": {},
          "execution_count": 14
        }
      ]
    },
    {
      "cell_type": "code",
      "metadata": {
        "id": "kSNAw_wys_hI",
        "colab": {
          "base_uri": "https://localhost:8080/"
        },
        "outputId": "193613d6-35c0-4ab4-ff39-40d1d9a1b636"
      },
      "source": [
        "idades[2]"
      ],
      "execution_count": 15,
      "outputs": [
        {
          "output_type": "execute_result",
          "data": {
            "text/plain": [
              "15"
            ]
          },
          "metadata": {},
          "execution_count": 15
        }
      ]
    },
    {
      "cell_type": "code",
      "metadata": {
        "id": "f-BXWd7vtEH-"
      },
      "source": [
        "idades = [18, 22, 15, 50]\n",
        "#         0   1   2   3\n",
        "#         0  -3  -2  -1"
      ],
      "execution_count": 16,
      "outputs": []
    },
    {
      "cell_type": "code",
      "metadata": {
        "id": "MD374lZntOF7",
        "colab": {
          "base_uri": "https://localhost:8080/"
        },
        "outputId": "4897845e-50a2-49d8-fd8c-9d46c4803638"
      },
      "source": [
        "idades[1]"
      ],
      "execution_count": 17,
      "outputs": [
        {
          "output_type": "execute_result",
          "data": {
            "text/plain": [
              "22"
            ]
          },
          "metadata": {},
          "execution_count": 17
        }
      ]
    },
    {
      "cell_type": "code",
      "metadata": {
        "id": "TnvEOFuLtQND",
        "colab": {
          "base_uri": "https://localhost:8080/"
        },
        "outputId": "353e019c-24f0-43ca-d8e7-2533cc2e8923"
      },
      "source": [
        "idades[0:3]"
      ],
      "execution_count": 18,
      "outputs": [
        {
          "output_type": "execute_result",
          "data": {
            "text/plain": [
              "[18, 22, 15]"
            ]
          },
          "metadata": {},
          "execution_count": 18
        }
      ]
    },
    {
      "cell_type": "code",
      "metadata": {
        "id": "xUxdyF5EtYsi",
        "colab": {
          "base_uri": "https://localhost:8080/"
        },
        "outputId": "eefe6d66-823a-41b8-bdad-1505cd041edd"
      },
      "source": [
        "idades[1:]"
      ],
      "execution_count": 19,
      "outputs": [
        {
          "output_type": "execute_result",
          "data": {
            "text/plain": [
              "[22, 15, 50]"
            ]
          },
          "metadata": {},
          "execution_count": 19
        }
      ]
    },
    {
      "cell_type": "code",
      "metadata": {
        "id": "EXlsN5qstm2G",
        "colab": {
          "base_uri": "https://localhost:8080/"
        },
        "outputId": "c399335a-8662-4b82-c941-73d6dd5e9b0e"
      },
      "source": [
        "idades[-1]"
      ],
      "execution_count": 20,
      "outputs": [
        {
          "output_type": "execute_result",
          "data": {
            "text/plain": [
              "50"
            ]
          },
          "metadata": {},
          "execution_count": 20
        }
      ]
    },
    {
      "cell_type": "code",
      "metadata": {
        "id": "KHatm1-8tsGh",
        "colab": {
          "base_uri": "https://localhost:8080/"
        },
        "outputId": "41fa4a85-ab01-4ac0-e50e-0854a519cfe6"
      },
      "source": [
        "idades[-2]"
      ],
      "execution_count": 21,
      "outputs": [
        {
          "output_type": "execute_result",
          "data": {
            "text/plain": [
              "15"
            ]
          },
          "metadata": {},
          "execution_count": 21
        }
      ]
    },
    {
      "cell_type": "markdown",
      "metadata": {
        "id": "A4ole1EvwvVL"
      },
      "source": [
        "### Repetições (Laços e Loops)"
      ]
    },
    {
      "cell_type": "code",
      "metadata": {
        "id": "koCXWIJPt2UP",
        "colab": {
          "base_uri": "https://localhost:8080/"
        },
        "outputId": "a754bec4-50e7-431a-c8f4-305392e72d2b"
      },
      "source": [
        "print(idades)"
      ],
      "execution_count": 22,
      "outputs": [
        {
          "output_type": "stream",
          "name": "stdout",
          "text": [
            "[18, 22, 15, 50]\n"
          ]
        }
      ]
    },
    {
      "cell_type": "code",
      "metadata": {
        "id": "m6OT6-c3wpyM",
        "colab": {
          "base_uri": "https://localhost:8080/"
        },
        "outputId": "2e3ebd00-c1ef-4f49-a4e0-a92f3956313f"
      },
      "source": [
        "# Utilizando a estrutura de repetição for fora da função\n",
        "def verifica_permissao(idade):\n",
        "  if idade >= 18:\n",
        "    print(f'Se você tem {idade} anos, então você tem permissão para dirigir.')\n",
        "  else:\n",
        "    print(f'Se você tem {idade} anos, então você não tem permissão para dirigir.')\n",
        "\n",
        "for idade in idades:\n",
        "  verifica_permissao(idade)"
      ],
      "execution_count": 23,
      "outputs": [
        {
          "output_type": "stream",
          "name": "stdout",
          "text": [
            "Se você tem 18 anos, então você tem permissão para dirigir.\n",
            "Se você tem 22 anos, então você tem permissão para dirigir.\n",
            "Se você tem 15 anos, então você não tem permissão para dirigir.\n",
            "Se você tem 50 anos, então você tem permissão para dirigir.\n"
          ]
        }
      ]
    },
    {
      "cell_type": "code",
      "metadata": {
        "id": "7C6NLsnaxap-",
        "colab": {
          "base_uri": "https://localhost:8080/"
        },
        "outputId": "00932e6e-3ee7-4e3d-c30c-b914490ce4d2"
      },
      "source": [
        "# Utilizando a estrutura de repetição for dentro da função\n",
        "def verifica_permissao(idades):\n",
        "  for idade in idades:\n",
        "    if idade >= 18:\n",
        "      print(f'Se você tem {idade} anos, então você tem permissão para dirigir.')\n",
        "    else:\n",
        "      print(f'Se você tem {idade} anos, então você não tem permissão para dirigir.')\n",
        "\n",
        "# A lista 'idades' é passada como parâmetro para a função.\n",
        "verifica_permissao(idades)"
      ],
      "execution_count": 24,
      "outputs": [
        {
          "output_type": "stream",
          "name": "stdout",
          "text": [
            "Se você tem 18 anos, então você tem permissão para dirigir.\n",
            "Se você tem 22 anos, então você tem permissão para dirigir.\n",
            "Se você tem 15 anos, então você não tem permissão para dirigir.\n",
            "Se você tem 50 anos, então você tem permissão para dirigir.\n"
          ]
        }
      ]
    },
    {
      "cell_type": "markdown",
      "metadata": {
        "id": "rsUr7whmzWhY"
      },
      "source": [
        "### Tipo Boleano"
      ]
    },
    {
      "cell_type": "code",
      "metadata": {
        "id": "8T8wJ28tzQpq",
        "colab": {
          "base_uri": "https://localhost:8080/"
        },
        "outputId": "4c7e6792-42d9-4834-9ae6-5577643e7e81"
      },
      "source": [
        "idade = 18\n",
        "print(idade >= 18)"
      ],
      "execution_count": 25,
      "outputs": [
        {
          "output_type": "stream",
          "name": "stdout",
          "text": [
            "True\n"
          ]
        }
      ]
    },
    {
      "cell_type": "code",
      "metadata": {
        "id": "Fsax-52ozf_V",
        "colab": {
          "base_uri": "https://localhost:8080/"
        },
        "outputId": "115b6358-2891-45a4-ff9f-667ffea8f0ab"
      },
      "source": [
        "idade = 15\n",
        "print(idade >= 18)"
      ],
      "execution_count": 26,
      "outputs": [
        {
          "output_type": "stream",
          "name": "stdout",
          "text": [
            "False\n"
          ]
        }
      ]
    },
    {
      "cell_type": "code",
      "metadata": {
        "id": "5TrL0hmkzjhF",
        "colab": {
          "base_uri": "https://localhost:8080/"
        },
        "outputId": "49416982-e75d-426f-f328-4b6d1200a45a"
      },
      "source": [
        "permissoes = []\n",
        "idades = [20, 14, 40]\n",
        "\n",
        "def verifica_permissao(idades, permissoes):\n",
        "  for idade in idades:\n",
        "    if idade >= 18:\n",
        "      permissoes.append(True)\n",
        "    else:\n",
        "      permissoes.append(False)\n",
        "\n",
        "verifica_permissao(idades, permissoes)\n",
        "print(f'permissoes = {permissoes}')"
      ],
      "execution_count": 27,
      "outputs": [
        {
          "output_type": "stream",
          "name": "stdout",
          "text": [
            "permissoes = [True, False, True]\n"
          ]
        }
      ]
    },
    {
      "cell_type": "code",
      "metadata": {
        "id": "SDv5J8qx0Wet",
        "colab": {
          "base_uri": "https://localhost:8080/"
        },
        "outputId": "a749ecc4-4062-4bbe-d051-b62c555163b7"
      },
      "source": [
        "print(f'permissoes = {permissoes}\\n')\n",
        "\n",
        "for permissao in permissoes:\n",
        "  if permissao == True:\n",
        "\n",
        "    print(f'{permissao}: Tem permissão para dirigir.')\n",
        "  else:\n",
        "    print(f'{permissao}: Não tem permissão para dirigir.')"
      ],
      "execution_count": 28,
      "outputs": [
        {
          "output_type": "stream",
          "name": "stdout",
          "text": [
            "permissoes = [True, False, True]\n",
            "\n",
            "True: Tem permissão para dirigir.\n",
            "False: Não tem permissão para dirigir.\n",
            "True: Tem permissão para dirigir.\n"
          ]
        }
      ]
    },
    {
      "cell_type": "markdown",
      "source": [
        "## Tipos em uma Lista e Sistema de Importação"
      ],
      "metadata": {
        "id": "Fs8TAUwnW-ei"
      }
    },
    {
      "cell_type": "markdown",
      "source": [
        "### Tipos em uma Lista"
      ],
      "metadata": {
        "id": "ZibNdPtdXJnV"
      }
    },
    {
      "cell_type": "markdown",
      "source": [
        "Em uma lista podemos ter elementos de diferentes tipos."
      ],
      "metadata": {
        "id": "vbsttTfU3IcS"
      }
    },
    {
      "cell_type": "code",
      "source": [
        "lista = ['Ramon', '26', True, 95]\n",
        "\n",
        "for elemento in lista:\n",
        "  print(f'{elemento}: {type(elemento)}')"
      ],
      "metadata": {
        "colab": {
          "base_uri": "https://localhost:8080/"
        },
        "id": "DHdcJIFU3Rza",
        "outputId": "29bb4dc2-dca1-456c-b67e-801fbf48aec4"
      },
      "execution_count": 29,
      "outputs": [
        {
          "output_type": "stream",
          "name": "stdout",
          "text": [
            "Ramon: <class 'str'>\n",
            "26: <class 'str'>\n",
            "True: <class 'bool'>\n",
            "95: <class 'int'>\n"
          ]
        }
      ]
    },
    {
      "cell_type": "markdown",
      "source": [
        "### Sistema de Importação"
      ],
      "metadata": {
        "id": "QVwadjLwqY3c"
      }
    },
    {
      "cell_type": "markdown",
      "source": [
        "#### Módulo [`random`](https://docs.python.org/pt-br/3/library/random.html)"
      ],
      "metadata": {
        "id": "9GIXnXqyquBr"
      }
    },
    {
      "cell_type": "code",
      "source": [
        "# Importando os métodos randrange e seed do módulo random\n",
        "from random import randrange, seed\n",
        "\n",
        "# Utilizando o método randrange para gerar um número aleatório entre 0 e 10\n",
        "randrange(0, 11)"
      ],
      "metadata": {
        "id": "4aPU8nHVqxuM",
        "colab": {
          "base_uri": "https://localhost:8080/"
        },
        "outputId": "bdeefe96-bcb7-473d-d3f1-3e9ac7b613e1"
      },
      "execution_count": 30,
      "outputs": [
        {
          "output_type": "execute_result",
          "data": {
            "text/plain": [
              "3"
            ]
          },
          "metadata": {},
          "execution_count": 30
        }
      ]
    },
    {
      "cell_type": "code",
      "source": [
        "# Inicializando o gerador de números aleatórios\":\n",
        "seed(1)\n",
        "\n",
        "# Criando uma lista vazia\n",
        "notas = []\n",
        "\n",
        "# Gerando 8 notas inteiras aleatórias e armazenando na lista criada:\n",
        "\n",
        "for nota in range(8):\n",
        "  notas.append(randrange(0, 11))\n",
        "\n",
        "print(f'notas = {notas}')"
      ],
      "metadata": {
        "colab": {
          "base_uri": "https://localhost:8080/"
        },
        "id": "J191bZTw4np2",
        "outputId": "9add3698-abe1-49c1-fe17-f51e8bf2f194"
      },
      "execution_count": 31,
      "outputs": [
        {
          "output_type": "stream",
          "name": "stdout",
          "text": [
            "notas = [2, 9, 1, 4, 1, 7, 7, 7]\n"
          ]
        }
      ]
    },
    {
      "cell_type": "code",
      "source": [
        "# Inicializando o gerador de números aleatórios\":\n",
        "seed(2)\n",
        "\n",
        "# Criando uma lista vazia\n",
        "notas = []\n",
        "\n",
        "# Gerando 8 notas inteiras aleatórias e armazenando na lista criada:\n",
        "\n",
        "for nota in range(8):\n",
        "  notas.append(randrange(0, 11))\n",
        "\n",
        "print(f'notas = {notas}')"
      ],
      "metadata": {
        "id": "EluZqC83tSjr",
        "colab": {
          "base_uri": "https://localhost:8080/"
        },
        "outputId": "9947b160-e257-4685-80fa-b477e60218e3"
      },
      "execution_count": 32,
      "outputs": [
        {
          "output_type": "stream",
          "name": "stdout",
          "text": [
            "notas = [0, 1, 1, 5, 2, 10, 4, 4]\n"
          ]
        }
      ]
    },
    {
      "cell_type": "markdown",
      "source": [
        "## Plotando com [Matplotlib](https://matplotlib.org/)"
      ],
      "metadata": {
        "id": "uGM0-p45wwyq"
      }
    },
    {
      "cell_type": "markdown",
      "source": [
        "### Matplotlib"
      ],
      "metadata": {
        "id": "4xF56omrjx9D"
      }
    },
    {
      "cell_type": "markdown",
      "source": [
        "* É uma biblioteca abrangente para criar visualizações estáticas, animadas e interativas em Python.\n",
        "* Foi criada por John D. Hunter.\n",
        "* É de código aberto (open source), com a possibilidade de usá-la de forma gratuita.\n",
        "* É escrita principalmente em Python, alguns códigos são escritos em C, Objective-C e Javascript para compatibilidade com a plataforma.\n",
        "* O seu código-fonte está localizado num [repositório do GitHub](https://github.com/matplotlib/matplotlib)."
      ],
      "metadata": {
        "id": "gqwaZOZkpOJD"
      }
    },
    {
      "cell_type": "markdown",
      "source": [
        "#### Importando a Biblioteca Matplotlib"
      ],
      "metadata": {
        "id": "yn2QUrunqsTB"
      }
    },
    {
      "cell_type": "code",
      "source": [
        "import matplotlib as mpl"
      ],
      "metadata": {
        "id": "Ql3arkBpquRW"
      },
      "execution_count": 33,
      "outputs": []
    },
    {
      "cell_type": "markdown",
      "source": [
        "#### Verificando a Versão da Matplotlib"
      ],
      "metadata": {
        "id": "11sxQFe4qdYR"
      }
    },
    {
      "cell_type": "code",
      "source": [
        "print(mpl.__version__)"
      ],
      "metadata": {
        "colab": {
          "base_uri": "https://localhost:8080/"
        },
        "id": "FgCjo7oOqj4h",
        "outputId": "0d979712-fd9a-4156-b788-9486b460c64b"
      },
      "execution_count": 34,
      "outputs": [
        {
          "output_type": "stream",
          "name": "stdout",
          "text": [
            "3.2.2\n"
          ]
        }
      ]
    },
    {
      "cell_type": "markdown",
      "source": [
        "### Matplotlib Pyplot"
      ],
      "metadata": {
        "id": "LiaBThYDjrXP"
      }
    },
    {
      "cell_type": "markdown",
      "source": [
        "* O `matplotlib.pyplot` é uma coleção de funções que faz o **Matplotlib** funcionar como o MATLAB.\n",
        "* A maioria das utilidades com **Matplotlib** está no submódulo `pyplot`."
      ],
      "metadata": {
        "id": "kPcbB4VKraeT"
      }
    },
    {
      "cell_type": "markdown",
      "source": [
        "#### Importando o Pyplot"
      ],
      "metadata": {
        "id": "lpBqKgZOtRZ-"
      }
    },
    {
      "cell_type": "code",
      "source": [
        "import matplotlib.pyplot as plt"
      ],
      "metadata": {
        "id": "FVrYdYH-taMN"
      },
      "execution_count": 35,
      "outputs": []
    },
    {
      "cell_type": "markdown",
      "source": [
        "### Exemplo com Matplotlib Pyplot"
      ],
      "metadata": {
        "id": "UXVOqPvqtLEe"
      }
    },
    {
      "cell_type": "markdown",
      "source": [
        "Gerando uma lista temperaturas aleatórias:"
      ],
      "metadata": {
        "id": "bxNWxoU---KF"
      }
    },
    {
      "cell_type": "code",
      "source": [
        "# Importando o método 'randrange' do módulo random\n",
        "from random import randrange\n",
        "\n",
        "# Criando uma lista vazia\n",
        "temperaturas = []\n",
        "\n",
        "# Gerando as temperaturas aleatórias\n",
        "for temperatura in range(10):\n",
        "  temperaturas.append(randrange(25, 40))\n",
        "\n",
        "print(f'temperaturas = {temperaturas}')"
      ],
      "metadata": {
        "colab": {
          "base_uri": "https://localhost:8080/"
        },
        "id": "xwtmCKoX88jx",
        "outputId": "86fe0370-1f48-4c66-ce6c-dd971684c6b3"
      },
      "execution_count": 36,
      "outputs": [
        {
          "output_type": "stream",
          "name": "stdout",
          "text": [
            "temperaturas = [34, 28, 34, 25, 34, 35, 27, 31, 35, 31]\n"
          ]
        }
      ]
    },
    {
      "cell_type": "markdown",
      "source": [
        "Importando a coleção de funções Pyplot do Matplotlib:"
      ],
      "metadata": {
        "id": "19kR8Luv_D1g"
      }
    },
    {
      "cell_type": "code",
      "source": [
        "import matplotlib.pyplot as plt"
      ],
      "metadata": {
        "id": "yOvulSfJAMPJ"
      },
      "execution_count": 37,
      "outputs": []
    },
    {
      "cell_type": "markdown",
      "source": [
        "Gerando o gráfico das temperaturas com a função [`plt.plot`](https://matplotlib.org/stable/api/_as_gen/matplotlib.pyplot.plot.html#matplotlib.pyplot.plot)"
      ],
      "metadata": {
        "id": "arkBm6K-AW6I"
      }
    },
    {
      "cell_type": "code",
      "source": [
        "x = list([1, 2, 3, 4, 5, 6, 7, 8, 9, 10])\n",
        "y = temperaturas\n",
        "\n",
        "plt.plot(x, y)"
      ],
      "metadata": {
        "colab": {
          "base_uri": "https://localhost:8080/",
          "height": 282
        },
        "id": "motGQodDAVt_",
        "outputId": "c57c66af-cb14-46c0-e535-071e6fc0d207"
      },
      "execution_count": 38,
      "outputs": [
        {
          "output_type": "execute_result",
          "data": {
            "text/plain": [
              "[<matplotlib.lines.Line2D at 0x7fbbddafdad0>]"
            ]
          },
          "metadata": {},
          "execution_count": 38
        },
        {
          "output_type": "display_data",
          "data": {
            "text/plain": [
              "<Figure size 432x288 with 1 Axes>"
            ],
            "image/png": "[encoded data removed]"
          },
          "metadata": {
            "needs_background": "light"
          }
        }
      ]
    },
    {
      "cell_type": "markdown",
      "source": [
        "Especificando o mínimo e o máximo de cada eixo utilizando a função [`plt.axis`](https://matplotlib.org/stable/api/_as_gen/matplotlib.pyplot.axis.html#matplotlib.pyplot.axis):"
      ],
      "metadata": {
        "id": "VKBxDX79D1I2"
      }
    },
    {
      "cell_type": "code",
      "source": [
        "x = list([1, 2, 3, 4, 5, 6, 7, 8, 9, 10])\n",
        "y = temperaturas\n",
        "\n",
        "plt.plot(x, y)\n",
        "plt.axis([1, 10, 25, 40])"
      ],
      "metadata": {
        "colab": {
          "base_uri": "https://localhost:8080/",
          "height": 286
        },
        "id": "6U5Qq0rYD2Y9",
        "outputId": "65ca827e-1938-4aa5-a3c1-150e434c1825"
      },
      "execution_count": 39,
      "outputs": [
        {
          "output_type": "execute_result",
          "data": {
            "text/plain": [
              "(1.0, 10.0, 25.0, 40.0)"
            ]
          },
          "metadata": {},
          "execution_count": 39
        },
        {
          "output_type": "display_data",
          "data": {
            "text/plain": [
              "<Figure size 432x288 with 1 Axes>"
            ],
            "image/png": "[encoded data removed]"
          },
          "metadata": {
            "needs_background": "light"
          }
        }
      ]
    },
    {
      "cell_type": "markdown",
      "source": [
        "Atribuindo um título para o gráfico e para cada eixo:"
      ],
      "metadata": {
        "id": "5hFofyTektIX"
      }
    },
    {
      "cell_type": "code",
      "source": [
        "plt.plot(x, y)\n",
        "plt.axis([1, 10, 25, 40])\n",
        "plt.title('Temperatura dos Últimos 10 Dias')\n",
        "plt.xlabel('Dias')\n",
        "plt.ylabel('Temperaturas')"
      ],
      "metadata": {
        "colab": {
          "base_uri": "https://localhost:8080/",
          "height": 314
        },
        "id": "8Y_iRWJHkxBz",
        "outputId": "13eb6d45-3805-4863-faa4-54d9cd237551"
      },
      "execution_count": 40,
      "outputs": [
        {
          "output_type": "execute_result",
          "data": {
            "text/plain": [
              "Text(0, 0.5, 'Temperaturas')"
            ]
          },
          "metadata": {},
          "execution_count": 40
        },
        {
          "output_type": "display_data",
          "data": {
            "text/plain": [
              "<Figure size 432x288 with 1 Axes>"
            ],
            "image/png": "[encoded data removed]"
          },
          "metadata": {
            "needs_background": "light"
          }
        }
      ]
    },
    {
      "cell_type": "markdown",
      "source": [
        "Alterando a marcação:"
      ],
      "metadata": {
        "id": "CtYbcbllmWBS"
      }
    },
    {
      "cell_type": "code",
      "source": [
        "plt.plot(x, y, 'o:r')\n",
        "plt.axis([1, 10, 25, 40])\n",
        "plt.title('Temperatura dos Últimos 10 Dias')\n",
        "plt.xlabel('Dias')\n",
        "plt.ylabel('Temperaturas')\n",
        "plt.show()"
      ],
      "metadata": {
        "colab": {
          "base_uri": "https://localhost:8080/",
          "height": 297
        },
        "id": "_ROvfoGYmYzE",
        "outputId": "f48b5fcd-9051-43ea-a392-768921d20a6c"
      },
      "execution_count": 41,
      "outputs": [
        {
          "output_type": "display_data",
          "data": {
            "text/plain": [
              "<Figure size 432x288 with 1 Axes>"
            ],
            "image/png": "[encoded data removed]"
          },
          "metadata": {
            "needs_background": "light"
          }
        }
      ]
    }
  ]
}